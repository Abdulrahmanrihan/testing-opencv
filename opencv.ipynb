{
 "cells": [
  {
   "cell_type": "code",
   "execution_count": null,
   "id": "f688381d",
   "metadata": {},
   "outputs": [],
   "source": [
    "# Installation"
   ]
  },
  {
   "cell_type": "code",
   "execution_count": 1,
   "id": "90e98dfa",
   "metadata": {},
   "outputs": [
    {
     "name": "stdout",
     "output_type": "stream",
     "text": [
      "Collecting opencv-python\n",
      "  Downloading opencv_python-4.8.0.74-cp37-abi3-macosx_11_0_arm64.whl (33.1 MB)\n",
      "\u001b[2K     \u001b[90m━━━━━━━━━━━━━━━━━━━━━━━━━━━━━━━━━━━━━━━━\u001b[0m \u001b[32m33.1/33.1 MB\u001b[0m \u001b[31m1.8 MB/s\u001b[0m eta \u001b[36m0:00:00\u001b[0m00:01\u001b[0m00:01\u001b[0m\n",
      "\u001b[?25hCollecting numpy>=1.21.2 (from opencv-python)\n",
      "  Using cached numpy-1.25.0-cp311-cp311-macosx_11_0_arm64.whl (14.0 MB)\n",
      "Installing collected packages: numpy, opencv-python\n",
      "Successfully installed numpy-1.25.0 opencv-python-4.8.0.74\n"
     ]
    }
   ],
   "source": [
    "!pip install opencv-python"
   ]
  },
  {
   "cell_type": "code",
   "execution_count": 2,
   "id": "78916103",
   "metadata": {},
   "outputs": [
    {
     "name": "stdout",
     "output_type": "stream",
     "text": [
      "Package                  Version\r\n",
      "------------------------ --------\r\n",
      "anyio                    3.7.0\r\n",
      "appnope                  0.1.3\r\n",
      "argon2-cffi              21.3.0\r\n",
      "argon2-cffi-bindings     21.2.0\r\n",
      "arrow                    1.2.3\r\n",
      "asttokens                2.2.1\r\n",
      "async-lru                2.0.2\r\n",
      "attrs                    23.1.0\r\n",
      "Babel                    2.12.1\r\n",
      "backcall                 0.2.0\r\n",
      "beautifulsoup4           4.12.2\r\n",
      "bleach                   6.0.0\r\n",
      "certifi                  2023.5.7\r\n",
      "cffi                     1.15.1\r\n",
      "charset-normalizer       3.1.0\r\n",
      "comm                     0.1.3\r\n",
      "debugpy                  1.6.7\r\n",
      "decorator                5.1.1\r\n",
      "defusedxml               0.7.1\r\n",
      "executing                1.2.0\r\n",
      "fastjsonschema           2.17.1\r\n",
      "fqdn                     1.5.1\r\n",
      "idna                     3.4\r\n",
      "ipykernel                6.23.3\r\n",
      "ipython                  8.14.0\r\n",
      "ipython-genutils         0.2.0\r\n",
      "isoduration              20.11.0\r\n",
      "jedi                     0.18.2\r\n",
      "Jinja2                   3.1.2\r\n",
      "json5                    0.9.14\r\n",
      "jsonpointer              2.4\r\n",
      "jsonschema               4.17.3\r\n",
      "jupyter_client           8.3.0\r\n",
      "jupyter_core             5.3.1\r\n",
      "jupyter-events           0.6.3\r\n",
      "jupyter-lsp              2.2.0\r\n",
      "jupyter_server           2.7.0\r\n",
      "jupyter_server_terminals 0.4.4\r\n",
      "jupyterlab               4.0.2\r\n",
      "jupyterlab-pygments      0.2.2\r\n",
      "jupyterlab_server        2.23.0\r\n",
      "MarkupSafe               2.1.3\r\n",
      "matplotlib-inline        0.1.6\r\n",
      "mistune                  3.0.1\r\n",
      "nbclassic                1.0.0\r\n",
      "nbclient                 0.8.0\r\n",
      "nbconvert                7.6.0\r\n",
      "nbformat                 5.9.0\r\n",
      "nest-asyncio             1.5.6\r\n",
      "notebook                 6.5.4\r\n",
      "notebook_shim            0.2.3\r\n",
      "numpy                    1.25.0\r\n",
      "opencv-python            4.8.0.74\r\n",
      "overrides                7.3.1\r\n",
      "packaging                23.1\r\n",
      "pandocfilters            1.5.0\r\n",
      "parso                    0.8.3\r\n",
      "pexpect                  4.8.0\r\n",
      "pickleshare              0.7.5\r\n",
      "pip                      23.1.2\r\n",
      "platformdirs             3.8.0\r\n",
      "prometheus-client        0.17.0\r\n",
      "prompt-toolkit           3.0.38\r\n",
      "psutil                   5.9.5\r\n",
      "ptyprocess               0.7.0\r\n",
      "pure-eval                0.2.2\r\n",
      "pycparser                2.21\r\n",
      "Pygments                 2.15.1\r\n",
      "pyrsistent               0.19.3\r\n",
      "python-dateutil          2.8.2\r\n",
      "python-json-logger       2.0.7\r\n",
      "PyYAML                   6.0\r\n",
      "pyzmq                    25.1.0\r\n",
      "requests                 2.31.0\r\n",
      "rfc3339-validator        0.1.4\r\n",
      "rfc3986-validator        0.1.1\r\n",
      "Send2Trash               1.8.2\r\n",
      "setuptools               67.8.0\r\n",
      "six                      1.16.0\r\n",
      "sniffio                  1.3.0\r\n",
      "soupsieve                2.4.1\r\n",
      "stack-data               0.6.2\r\n",
      "terminado                0.17.1\r\n",
      "tinycss2                 1.2.1\r\n",
      "tornado                  6.3.2\r\n",
      "traitlets                5.9.0\r\n",
      "typing_extensions        4.7.1\r\n",
      "uri-template             1.3.0\r\n",
      "urllib3                  2.0.3\r\n",
      "wcwidth                  0.2.6\r\n",
      "webcolors                1.13\r\n",
      "webencodings             0.5.1\r\n",
      "websocket-client         1.6.1\r\n",
      "wheel                    0.40.0\r\n"
     ]
    }
   ],
   "source": [
    "!pip list"
   ]
  },
  {
   "cell_type": "code",
   "execution_count": 3,
   "id": "d5878e33",
   "metadata": {},
   "outputs": [],
   "source": [
    "import cv2"
   ]
  },
  {
   "cell_type": "code",
   "execution_count": 12,
   "id": "d6f56d95",
   "metadata": {},
   "outputs": [
    {
     "name": "stdout",
     "output_type": "stream",
     "text": [
      "\n",
      "K-means clusterization sample.\n",
      "Usage:\n",
      "   kmeans.py\n",
      "\n",
      "Keyboard shortcuts:\n",
      "   ESC   - exit\n",
      "   space - generate new distribution\n",
      "\n",
      "sampling distributions...\n",
      "^C\n"
     ]
    }
   ],
   "source": [
    "!cd opencv-4.8.0/samples/python/ & python opencv-4.8.0/samples/python/kmeans.py"
   ]
  },
  {
   "cell_type": "code",
   "execution_count": null,
   "id": "cae5aadc",
   "metadata": {},
   "outputs": [
    {
     "name": "stdout",
     "output_type": "stream",
     "text": [
      "\r\n",
      "example to show optical flow\r\n",
      "\r\n",
      "USAGE: opt_flow.py [<video_source>]\r\n",
      "\r\n",
      "Keys:\r\n",
      " 1 - toggle HSV flow visualization\r\n",
      " 2 - toggle glitch\r\n",
      "\r\n",
      "Keys:\r\n",
      "    ESC    - exit\r\n",
      "\r\n"
     ]
    }
   ],
   "source": [
    "!python opencv-4.8.0/samples/python/opt_flow.py"
   ]
  },
  {
   "cell_type": "code",
   "execution_count": null,
   "id": "96036d56",
   "metadata": {},
   "outputs": [],
   "source": []
  }
 ],
 "metadata": {
  "kernelspec": {
   "display_name": "Python 3 (ipykernel)",
   "language": "python",
   "name": "python3"
  },
  "language_info": {
   "codemirror_mode": {
    "name": "ipython",
    "version": 3
   },
   "file_extension": ".py",
   "mimetype": "text/x-python",
   "name": "python",
   "nbconvert_exporter": "python",
   "pygments_lexer": "ipython3",
   "version": "3.11.4"
  }
 },
 "nbformat": 4,
 "nbformat_minor": 5
}
